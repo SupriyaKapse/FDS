{
  "nbformat": 4,
  "nbformat_minor": 0,
  "metadata": {
    "colab": {
      "name": "3_practical.ipynb",
      "provenance": []
    },
    "kernelspec": {
      "name": "python3",
      "display_name": "Python 3"
    },
    "language_info": {
      "name": "python"
    }
  },
  "cells": [
    {
      "cell_type": "markdown",
      "source": [
        "**world alcohol consumption data**\n",
        "\n",
        "\n",
        "\n"
      ],
      "metadata": {
        "id": "274dDs2jyR8U"
      }
    },
    {
      "cell_type": "code",
      "source": [
        "import pandas as pd\n",
        "drinks = pd.read_csv(\"/content/sample_data/drinks.csv\")\n",
        "print(drinks)"
      ],
      "metadata": {
        "colab": {
          "base_uri": "https://localhost:8080/"
        },
        "id": "wG4ZBnLvye9l",
        "outputId": "d4165911-a79f-4600-daa4-bb62e420e9f1"
      },
      "execution_count": 1,
      "outputs": [
        {
          "output_type": "stream",
          "name": "stdout",
          "text": [
            "         country  beer_servings  ...  total_litres_of_pure_alcohol  continent\n",
            "0    Afghanistan              0  ...                           0.0         AS\n",
            "1        Albania             89  ...                           4.9         EU\n",
            "2        Algeria             25  ...                           0.7         AF\n",
            "3        Andorra            245  ...                          12.4         EU\n",
            "4         Angola            217  ...                           5.9         AF\n",
            "..           ...            ...  ...                           ...        ...\n",
            "188    Venezuela            333  ...                           7.7         SA\n",
            "189      Vietnam            111  ...                           2.0         AS\n",
            "190        Yemen              6  ...                           0.1         AS\n",
            "191       Zambia             32  ...                           2.5         AF\n",
            "192     Zimbabwe             64  ...                           4.7         AF\n",
            "\n",
            "[193 rows x 6 columns]\n"
          ]
        }
      ]
    },
    {
      "cell_type": "code",
      "source": [
        "drinks['continent'].describe()\n"
      ],
      "metadata": {
        "colab": {
          "base_uri": "https://localhost:8080/"
        },
        "id": "-GNvb9JGyfc4",
        "outputId": "15258042-f129-4f81-ddd6-e70deb846387"
      },
      "execution_count": 2,
      "outputs": [
        {
          "output_type": "execute_result",
          "data": {
            "text/plain": [
              "count     170\n",
              "unique      5\n",
              "top        AF\n",
              "freq       53\n",
              "Name: continent, dtype: object"
            ]
          },
          "metadata": {},
          "execution_count": 2
        }
      ]
    },
    {
      "cell_type": "code",
      "source": [
        "drinks['beer_servings'].describe()"
      ],
      "metadata": {
        "colab": {
          "base_uri": "https://localhost:8080/"
        },
        "id": "5Zi6DzwMyf9-",
        "outputId": "0574db78-8612-4e22-8bbd-ff7cee621a1c"
      },
      "execution_count": 3,
      "outputs": [
        {
          "output_type": "execute_result",
          "data": {
            "text/plain": [
              "count    193.000000\n",
              "mean     106.160622\n",
              "std      101.143103\n",
              "min        0.000000\n",
              "25%       20.000000\n",
              "50%       76.000000\n",
              "75%      188.000000\n",
              "max      376.000000\n",
              "Name: beer_servings, dtype: float64"
            ]
          },
          "metadata": {},
          "execution_count": 3
        }
      ]
    },
    {
      "cell_type": "code",
      "source": [
        "drinks['total_litres_of_pure_alcohol'].describe()"
      ],
      "metadata": {
        "colab": {
          "base_uri": "https://localhost:8080/"
        },
        "id": "mwfmfyfrygb_",
        "outputId": "44793478-f690-4a9b-c6a7-85472d7fff87"
      },
      "execution_count": 4,
      "outputs": [
        {
          "output_type": "execute_result",
          "data": {
            "text/plain": [
              "count    193.000000\n",
              "mean       4.717098\n",
              "std        3.773298\n",
              "min        0.000000\n",
              "25%        1.300000\n",
              "50%        4.200000\n",
              "75%        7.200000\n",
              "max       14.400000\n",
              "Name: total_litres_of_pure_alcohol, dtype: float64"
            ]
          },
          "metadata": {},
          "execution_count": 4
        }
      ]
    },
    {
      "cell_type": "code",
      "source": [
        "drinks['wine_servings'].describe()"
      ],
      "metadata": {
        "colab": {
          "base_uri": "https://localhost:8080/"
        },
        "id": "PAPKDd9ayhXR",
        "outputId": "ed593983-f6f3-4ddf-ee98-26c0a028a40a"
      },
      "execution_count": 5,
      "outputs": [
        {
          "output_type": "execute_result",
          "data": {
            "text/plain": [
              "count    193.000000\n",
              "mean      49.450777\n",
              "std       79.697598\n",
              "min        0.000000\n",
              "25%        1.000000\n",
              "50%        8.000000\n",
              "75%       59.000000\n",
              "max      370.000000\n",
              "Name: wine_servings, dtype: float64"
            ]
          },
          "metadata": {},
          "execution_count": 5
        }
      ]
    },
    {
      "cell_type": "markdown",
      "source": [
        "**measure of center**"
      ],
      "metadata": {
        "id": "FBCpTMBKzRLD"
      }
    },
    {
      "cell_type": "code",
      "source": [
        "import numpy\n",
        "results = [5, 4, 3, 4, 5, 3, 2, 5, 3, 2, 1, 4, 5, 3, 4, 4, 5, 4, 2, 1,\n",
        "4, 5, 4, 3, 2, 4, 4, 5, 4, 3, 2, 1]\n",
        "sorted_results = sorted(results)\n",
        "print(sorted_results)\n",
        "print(numpy.mean(results)) #mean\n",
        "print(numpy.median(results)) #median"
      ],
      "metadata": {
        "colab": {
          "base_uri": "https://localhost:8080/"
        },
        "id": "LbK8wRr9zE5i",
        "outputId": "f877c1ad-6ff0-4bd7-e95d-0c0ce49fb68f"
      },
      "execution_count": 6,
      "outputs": [
        {
          "output_type": "stream",
          "name": "stdout",
          "text": [
            "[1, 1, 1, 2, 2, 2, 2, 2, 3, 3, 3, 3, 3, 3, 4, 4, 4, 4, 4, 4, 4, 4, 4, 4, 4, 5, 5, 5, 5, 5, 5, 5]\n",
            "3.4375\n",
            "4.0\n"
          ]
        }
      ]
    },
    {
      "cell_type": "markdown",
      "source": [
        "**standard deviation**"
      ],
      "metadata": {
        "id": "URSPBk-czd-W"
      }
    },
    {
      "cell_type": "code",
      "source": [
        "import numpy\n",
        "temps = [31, 32, 32, 31, 28, 29, 31, 38, 32, 31, 30, 29, 30, 31, 26]\n",
        "print(numpy.mean(temps))\n",
        "print(numpy.median(temps))"
      ],
      "metadata": {
        "colab": {
          "base_uri": "https://localhost:8080/"
        },
        "id": "gOxBKQIZzGs3",
        "outputId": "56089241-b468-4b2f-8295-b4f01f83a013"
      },
      "execution_count": 7,
      "outputs": [
        {
          "output_type": "stream",
          "name": "stdout",
          "text": [
            "30.733333333333334\n",
            "31.0\n"
          ]
        }
      ]
    },
    {
      "cell_type": "code",
      "source": [
        "mean = numpy.mean(temps)\n",
        "squared_differences_list = []\n",
        "for temperature in temps:\n",
        "  difference = temperature - mean\n",
        "  squared_difference = difference**2\n",
        "  squared_differences_list.append(squared_difference)\n",
        "average_squared_difference = numpy.mean(squared_differences_list)\n",
        "standard_deviation = numpy.sqrt(average_squared_difference)\n",
        "print(standard_deviation) #standard deviation"
      ],
      "metadata": {
        "colab": {
          "base_uri": "https://localhost:8080/"
        },
        "id": "-P1XG0UTzG8e",
        "outputId": "7446f086-21be-4db2-f3a7-d0eecf6286dc"
      },
      "execution_count": 8,
      "outputs": [
        {
          "output_type": "stream",
          "name": "stdout",
          "text": [
            "2.5157283018817607\n"
          ]
        }
      ]
    },
    {
      "cell_type": "markdown",
      "source": [
        "**measure of center geometric mean**"
      ],
      "metadata": {
        "id": "cwoBL3tBzpGw"
      }
    },
    {
      "cell_type": "code",
      "source": [
        "import numpy\n",
        "temps_two = [31, 32, 32, 31, 28, 29, 31, 38, 32, 31, 30, 29, 30, 31, 26]\n",
        "num_items = len(temps_two)\n",
        "product = 1\n",
        "for tmp in temps_two:\n",
        "  product *= tmp\n",
        "geometric_mean = product**(1.0/num_items)\n",
        "print(geometric_mean) #geometric mean"
      ],
      "metadata": {
        "colab": {
          "base_uri": "https://localhost:8080/"
        },
        "id": "DaY-02LJzHRU",
        "outputId": "023eae9a-1189-43f8-b4f2-472b3fecc497"
      },
      "execution_count": 9,
      "outputs": [
        {
          "output_type": "stream",
          "name": "stdout",
          "text": [
            "30.63473484374659\n"
          ]
        }
      ]
    },
    {
      "cell_type": "code",
      "source": [
        ""
      ],
      "metadata": {
        "id": "noAjedBczHjY"
      },
      "execution_count": null,
      "outputs": []
    },
    {
      "cell_type": "code",
      "source": [
        ""
      ],
      "metadata": {
        "id": "M6Sxre86zHya"
      },
      "execution_count": null,
      "outputs": []
    }
  ]
}