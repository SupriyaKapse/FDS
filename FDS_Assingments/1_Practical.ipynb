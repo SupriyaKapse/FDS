{
  "cells": [
    {
      "cell_type": "markdown",
      "metadata": {
        "id": "BmiZhK7gmGaz"
      },
      "source": [
        "**Numpy library**\n",
        "\n",
        "NumPy is the fundamental package for scientific computing in Python. It is a Python library that provides a multidimensional array object, various derived objects (such as masked arrays and matrices), and an assortment of routines for fast operations on arrays, including mathematical, logical, shape manipulation, sorting, selecting, I/O, discrete Fourier transforms, basic linear algebra, basic statistical operations, random simulation and much more"
      ]
    },
    {
      "cell_type": "code",
      "execution_count": null,
      "metadata": {
        "colab": {
          "base_uri": "https://localhost:8080/"
        },
        "id": "FSuW7WDonNIy",
        "outputId": "64fb2495-77ab-467e-e095-6bf90148c673"
      },
      "outputs": [
        {
          "name": "stdout",
          "output_type": "stream",
          "text": [
            "Welcome supriya kapse\n"
          ]
        }
      ],
      "source": [
        "print('Welcome supriya kapse')"
      ]
    },
    {
      "cell_type": "code",
      "execution_count": null,
      "metadata": {
        "colab": {
          "base_uri": "https://localhost:8080/"
        },
        "id": "Mc7fpHNtnPqQ",
        "outputId": "d2c28c41-14af-4a1d-b651-61fcb83b1043"
      },
      "outputs": [
        {
          "data": {
            "text/plain": [
              "2"
            ]
          },
          "execution_count": 13,
          "metadata": {},
          "output_type": "execute_result"
        }
      ],
      "source": [
        "a = 2\n",
        "a"
      ]
    },
    {
      "cell_type": "code",
      "execution_count": null,
      "metadata": {
        "colab": {
          "base_uri": "https://localhost:8080/"
        },
        "id": "9hX8Jy7hnazh",
        "outputId": "6ce17973-3fb8-421b-c1ac-c84606a0a7d6"
      },
      "outputs": [
        {
          "name": "stdout",
          "output_type": "stream",
          "text": [
            "a = 2 and b = 3\n"
          ]
        }
      ],
      "source": [
        "a = 2\n",
        "b = 3\n",
        "print('a = ' + str(a) + ' and ' + 'b = ' + str(b)) # convert int to str"
      ]
    },
    {
      "cell_type": "code",
      "execution_count": null,
      "metadata": {
        "colab": {
          "base_uri": "https://localhost:8080/"
        },
        "id": "z3czEC-pncNl",
        "outputId": "95c83828-edc8-454e-df9b-9cdd4a0a5b40"
      },
      "outputs": [
        {
          "data": {
            "text/plain": [
              "int"
            ]
          },
          "execution_count": 15,
          "metadata": {},
          "output_type": "execute_result"
        }
      ],
      "source": [
        "type(a) # check type of variable a"
      ]
    },
    {
      "cell_type": "code",
      "execution_count": null,
      "metadata": {
        "colab": {
          "base_uri": "https://localhost:8080/"
        },
        "id": "q4JDJT7vnedh",
        "outputId": "a07470a8-b3b0-447b-db42-e54f60495812"
      },
      "outputs": [
        {
          "data": {
            "text/plain": [
              "str"
            ]
          },
          "execution_count": 16,
          "metadata": {},
          "output_type": "execute_result"
        }
      ],
      "source": [
        "s1 = 'welcome supriya to RJ college'\n",
        "type(s1)"
      ]
    },
    {
      "cell_type": "code",
      "execution_count": null,
      "metadata": {
        "colab": {
          "base_uri": "https://localhost:8080/"
        },
        "id": "D7uYN-5Wnole",
        "outputId": "4bafe75b-4e4b-42ff-e48c-3ec4b3cc9d68"
      },
      "outputs": [
        {
          "data": {
            "text/plain": [
              "float"
            ]
          },
          "execution_count": 17,
          "metadata": {},
          "output_type": "execute_result"
        }
      ],
      "source": [
        "f=10.34546796547\n",
        "type(f)"
      ]
    },
    {
      "cell_type": "code",
      "execution_count": null,
      "metadata": {
        "colab": {
          "base_uri": "https://localhost:8080/"
        },
        "id": "BLFqN2c1nvg5",
        "outputId": "8ecd6d7b-0924-4f00-89b4-d09f48f82bfb"
      },
      "outputs": [
        {
          "data": {
            "text/plain": [
              "[1, 2, 3]"
            ]
          },
          "execution_count": 18,
          "metadata": {},
          "output_type": "execute_result"
        }
      ],
      "source": [
        "a=[1,2,3]\n",
        "a"
      ]
    },
    {
      "cell_type": "code",
      "execution_count": null,
      "metadata": {
        "colab": {
          "base_uri": "https://localhost:8080/"
        },
        "id": "5OoqsS98ny1D",
        "outputId": "18668fbd-a7e9-4c62-8a89-d568019595ad"
      },
      "outputs": [
        {
          "data": {
            "text/plain": [
              "list"
            ]
          },
          "execution_count": 19,
          "metadata": {},
          "output_type": "execute_result"
        }
      ],
      "source": [
        "type(a)"
      ]
    },
    {
      "cell_type": "code",
      "execution_count": null,
      "metadata": {
        "colab": {
          "base_uri": "https://localhost:8080/"
        },
        "id": "PvzHxQ_Ln2Bl",
        "outputId": "dd218ecb-bd3d-49f5-ca3b-180b1f42da7c"
      },
      "outputs": [
        {
          "data": {
            "text/plain": [
              "[4, 5, 6]"
            ]
          },
          "execution_count": 20,
          "metadata": {},
          "output_type": "execute_result"
        }
      ],
      "source": [
        "b=[4,5,6]\n",
        "b"
      ]
    },
    {
      "cell_type": "code",
      "execution_count": null,
      "metadata": {
        "colab": {
          "base_uri": "https://localhost:8080/"
        },
        "id": "9Cut1MSyn5G8",
        "outputId": "ef3f9d8c-bc1c-498e-f83a-c1de9e1295c1"
      },
      "outputs": [
        {
          "name": "stdout",
          "output_type": "stream",
          "text": [
            "[4, 10, 18]\n"
          ]
        }
      ],
      "source": [
        "c = []\n",
        "\n",
        "for i in range(len(a)):\n",
        "  c.append(a[i]*b[i])\n",
        "\n",
        "print(c)"
      ]
    },
    {
      "cell_type": "code",
      "execution_count": null,
      "metadata": {
        "colab": {
          "base_uri": "https://localhost:8080/"
        },
        "id": "oBKMMtHyn5d7",
        "outputId": "eae985be-ca4e-48b3-c81d-b49cddf051f5"
      },
      "outputs": [
        {
          "name": "stdout",
          "output_type": "stream",
          "text": [
            "[5, 7, 9]\n"
          ]
        }
      ],
      "source": [
        "c = []\n",
        "\n",
        "for i in range(len(a)):\n",
        "  c.append(a[i]+b[i])\n",
        "\n",
        "print(c)"
      ]
    },
    {
      "cell_type": "code",
      "execution_count": null,
      "metadata": {
        "colab": {
          "base_uri": "https://localhost:8080/"
        },
        "id": "k6J9xbj3oEDx",
        "outputId": "533ccb42-d1f6-4a26-9dd7-a5442afcb61a"
      },
      "outputs": [
        {
          "name": "stdout",
          "output_type": "stream",
          "text": [
            "sleeping\n",
            "done sleeping\n"
          ]
        }
      ],
      "source": [
        "import time\n",
        "print('sleeping')\n",
        "\n",
        "time.sleep(30)\n",
        "print('done sleeping')"
      ]
    },
    {
      "cell_type": "markdown",
      "metadata": {
        "id": "5LlL5CUQomEG"
      },
      "source": [
        "**NumPy arange()**\n",
        "\n",
        " is one of the array creation routines based on numerical ranges. It creates an instance of ndarray with evenly spaced values and returns the reference to it.\n",
        "\n",
        "You can define the interval of the values contained in an array, space between them, and their type with four parameters of arange():\n",
        "\n",
        "numpy.arange([start, ]stop, [step, ], dtype=None) -> numpy.ndarray\n",
        "The first three parameters determine the range of the values, while the fourth specifies the type of the elements:\n",
        "\n",
        "start is the number (integer or decimal) that defines the first value in the array.\n",
        "stop is the number that defines the end of the array and isn’t included in the array.\n",
        "step is the number that defines the spacing (difference) between each two consecutive values in the array and defaults to 1.\n",
        "dtype is the type of the elements of the output array and defaults to None."
      ]
    },
    {
      "cell_type": "markdown",
      "metadata": {
        "id": "--i0g8oBpMOa"
      },
      "source": [
        "np.reshape(x, y) \n",
        "\n",
        "converts linear data to metric format (x(rows), y(columns))"
      ]
    },
    {
      "cell_type": "code",
      "execution_count": null,
      "metadata": {
        "colab": {
          "base_uri": "https://localhost:8080/"
        },
        "id": "Wtajl9kCoEbN",
        "outputId": "9e80c54d-9b6e-417a-963a-99f81000eabf"
      },
      "outputs": [
        {
          "name": "stdout",
          "output_type": "stream",
          "text": [
            "[[ 0  1  2  3  4]\n",
            " [ 5  6  7  8  9]\n",
            " [10 11 12 13 14]]\n"
          ]
        }
      ],
      "source": [
        "import numpy as np\n",
        "\n",
        "a=np.arange(15).reshape(3,5)\n",
        "print(a)"
      ]
    },
    {
      "cell_type": "markdown",
      "metadata": {
        "id": "oVlv00XApzoZ"
      },
      "source": [
        "**.ndim()**\n",
        "\n",
        " function return the number of dimensions of an array."
      ]
    },
    {
      "cell_type": "code",
      "execution_count": null,
      "metadata": {
        "colab": {
          "base_uri": "https://localhost:8080/"
        },
        "id": "bNiO2yiJoE_C",
        "outputId": "68fa5290-20e4-4c02-c6f9-d77715f4fa4a"
      },
      "outputs": [
        {
          "data": {
            "text/plain": [
              "2"
            ]
          },
          "execution_count": 25,
          "metadata": {},
          "output_type": "execute_result"
        }
      ],
      "source": [
        "a.ndim"
      ]
    },
    {
      "cell_type": "code",
      "execution_count": null,
      "metadata": {
        "colab": {
          "base_uri": "https://localhost:8080/"
        },
        "id": "MVAp9gRtn6A0",
        "outputId": "49fe93cb-9ce3-461d-ef04-2ad6f4761885"
      },
      "outputs": [
        {
          "data": {
            "text/plain": [
              "dtype('int64')"
            ]
          },
          "execution_count": 26,
          "metadata": {},
          "output_type": "execute_result"
        }
      ],
      "source": [
        "a.dtype"
      ]
    },
    {
      "cell_type": "code",
      "execution_count": null,
      "metadata": {
        "id": "Qq4iYjQpqdBm"
      },
      "outputs": [],
      "source": [
        "a.dtype.name"
      ]
    },
    {
      "cell_type": "markdown",
      "metadata": {
        "id": "CIY0zAJ4qxrz"
      },
      "source": [
        "**itemsize** \n",
        "\n",
        "returns the size (in bytes) of each element of a NumPy array"
      ]
    },
    {
      "cell_type": "code",
      "execution_count": null,
      "metadata": {
        "colab": {
          "base_uri": "https://localhost:8080/"
        },
        "id": "nnGV2v9hqdV7",
        "outputId": "a64c286f-3bfb-4a32-fbfe-ced136ffae3c"
      },
      "outputs": [
        {
          "data": {
            "text/plain": [
              "8"
            ]
          },
          "execution_count": 27,
          "metadata": {},
          "output_type": "execute_result"
        }
      ],
      "source": [
        "a.itemsize"
      ]
    },
    {
      "cell_type": "code",
      "execution_count": null,
      "metadata": {
        "colab": {
          "base_uri": "https://localhost:8080/"
        },
        "id": "5c_MNK7pqdsp",
        "outputId": "6cd7d52a-5020-455d-e8cf-e5eeb88f70aa"
      },
      "outputs": [
        {
          "data": {
            "text/plain": [
              "15"
            ]
          },
          "execution_count": 28,
          "metadata": {},
          "output_type": "execute_result"
        }
      ],
      "source": [
        "a.size"
      ]
    },
    {
      "cell_type": "code",
      "execution_count": null,
      "metadata": {
        "colab": {
          "base_uri": "https://localhost:8080/"
        },
        "id": "U9X0dmIVqeD3",
        "outputId": "418e7a1e-6efc-4772-feef-3e098804ea79"
      },
      "outputs": [
        {
          "data": {
            "text/plain": [
              "numpy.ndarray"
            ]
          },
          "execution_count": 29,
          "metadata": {},
          "output_type": "execute_result"
        }
      ],
      "source": [
        "type(a)"
      ]
    },
    {
      "cell_type": "markdown",
      "metadata": {
        "id": "CD5l2513rVAb"
      },
      "source": [
        "NumPy is used to work with arrays. The array object in NumPy is called ndarray.\n",
        "\n",
        "We can create a NumPy ndarray object by using the array() function."
      ]
    },
    {
      "cell_type": "code",
      "execution_count": null,
      "metadata": {
        "colab": {
          "background_save": true
        },
        "id": "aO03-ZXTqecA",
        "outputId": "f51e6013-bc5b-4594-c9d0-2b6e95fadb98"
      },
      "outputs": [
        {
          "data": {
            "text/plain": [
              "array([[11, 13, 14],\n",
              "       [56, 57, 58]])"
            ]
          },
          "execution_count": null,
          "metadata": {},
          "output_type": "execute_result"
        }
      ],
      "source": [
        "b=np.array([[11,13,14],[56,57,58]])\n",
        "b"
      ]
    },
    {
      "cell_type": "code",
      "execution_count": 31,
      "metadata": {
        "id": "JF7UkLTPqe4v",
        "colab": {
          "base_uri": "https://localhost:8080/"
        },
        "outputId": "328ded43-9986-4cd1-e4ad-533ba1b13299"
      },
      "outputs": [
        {
          "output_type": "execute_result",
          "data": {
            "text/plain": [
              "array([[11, 13, 14],\n",
              "       [56, 57, 58]])"
            ]
          },
          "metadata": {},
          "execution_count": 31
        }
      ],
      "source": [
        "b.reshape(3,2)\n",
        "b"
      ]
    },
    {
      "cell_type": "code",
      "execution_count": 32,
      "metadata": {
        "id": "ZnT_-gVvqfNs",
        "colab": {
          "base_uri": "https://localhost:8080/"
        },
        "outputId": "06debe58-efd9-44ba-f6e9-d93e2f76dd4b"
      },
      "outputs": [
        {
          "output_type": "execute_result",
          "data": {
            "text/plain": [
              "array([['a', 'b', 'c', 'd', 'e'],\n",
              "       ['f', 'g', 'h', 'i', 'j']], dtype='<U1')"
            ]
          },
          "metadata": {},
          "execution_count": 32
        }
      ],
      "source": [
        "d=np.array([['a','b','c','d','e'],['f','g','h','i','j']])\n",
        "d"
      ]
    },
    {
      "cell_type": "code",
      "source": [
        "e=d.reshape(2,5)\n",
        "e"
      ],
      "metadata": {
        "colab": {
          "base_uri": "https://localhost:8080/"
        },
        "id": "q4vJrC57tHHD",
        "outputId": "20c9e754-b7ef-41af-ba72-df086f40be77"
      },
      "execution_count": 33,
      "outputs": [
        {
          "output_type": "execute_result",
          "data": {
            "text/plain": [
              "array([['a', 'b', 'c', 'd', 'e'],\n",
              "       ['f', 'g', 'h', 'i', 'j']], dtype='<U1')"
            ]
          },
          "metadata": {},
          "execution_count": 33
        }
      ]
    },
    {
      "cell_type": "code",
      "source": [
        ""
      ],
      "metadata": {
        "id": "_KJl4hMutH_R"
      },
      "execution_count": null,
      "outputs": []
    }
  ],
  "metadata": {
    "colab": {
      "collapsed_sections": [],
      "name": "1_Practical",
      "provenance": []
    },
    "kernelspec": {
      "display_name": "Python 3",
      "name": "python3"
    },
    "language_info": {
      "name": "python"
    }
  },
  "nbformat": 4,
  "nbformat_minor": 0
}